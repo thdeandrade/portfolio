{
  "cells": [
    {
      "cell_type": "markdown",
      "metadata": {
        "id": "view-in-github",
        "colab_type": "text"
      },
      "source": [
        "<a href=\"https://colab.research.google.com/github/thdeandrade/portfolio/blob/main/Detec%C3%A7%C3%A3o_de_Fraude_em_Cart%C3%B5es_de_Cr%C3%A9dito.ipynb\" target=\"_parent\"><img src=\"https://colab.research.google.com/assets/colab-badge.svg\" alt=\"Open In Colab\"/></a>"
      ]
    },
    {
      "cell_type": "markdown",
      "source": [
        "# **Detecção de Fraude em Cartões de Crédito**\n",
        "\n",
        "<center><img alt=\"Melhores destinos -Málaga\" width=\"80%\", height=400, src=\"https://bit.ly/3Lxn8SR\"></center>\n",
        "<center><a href='https://unsplash.com/photos/7F65HDP0-E0'>Kenny Eliason do Unplash </a></center>"
      ],
      "metadata": {
        "id": "WwNCtPNJIgGc"
      }
    },
    {
      "cell_type": "markdown",
      "metadata": {
        "id": "bVws3jGB5rT3"
      },
      "source": [
        "Houve uma época em que era comum ouvir de amigos e familiares que o melhor banco era aquele em que tínhamos dinheiro depositado. Doce ilusão. Com os bancos (digitais e físicos) cada vez mais inovadores e competitivos, questões como segurança devem sempre vir a frente de tudo. A cada novo inovação do banco, uma nova fraude surge.\n",
        "\n",
        "De acordo com dados da[ Serasa Experian](https://www.serasaexperian.com.br/sala-de-imprensa/analise-de-dados/ano-de-2021-bate-recorde-com-mais-de-4-milhoes-de-tentativas-de-fraude-revela-serasa-experian/), só no ano de 2021 foram mais de 4 milhões de movimentações suspeitas, sendo aproximadamente 2.3 milhões somente no segmento de bancos e cartões. Quando falamos em valores, estima-se que em 2022 os prejuízos com fraudes bancárias devem chegar ao [patamar mais alto da série histórica](https://exame.com/invest/minhas-financas/golpes-bancarios-disparam-e-devem-gerar-prejuizos-de-r-25-bilhoes-neste-ano/), na ordem de 2.5 bilhões de reais.\n",
        "\n",
        "Como forma de conter a ação de criminosos, os bancos investem continuamente na prevenção de fraudes financeiras, e um agente que vem ganhando destaque é o cientista de dados. Todo e qualquer tipo de informação obtida diariamente pelo usuário pode e deve ser manipulada e/ou transformada internamente a fim de extrair informações valiosas, tais como possíveis comportamentos suspeitos. \n",
        "\n",
        "\n",
        "Nesse artigo, você vai:\n",
        "\n",
        "*\tManipular uma base de dados reais de cartão de crédito que é disponibilizada no [Kaggle](https://www.kaggle.com/mlg-ulb/creditcardfraud).\n",
        "*\tEntender as principais características de ações legítimas e fraudulentas.\n",
        "*\tTransformar os dados para uma mesma escala de análise, utilizando a função StandardScaler()\n",
        "*\tCriar dois cenários, com RandomUnderSampler() e RandomOverSampler().\n",
        "*\tCriar três modelos de Machine Learning (Random Forest, Logistic Regression e Naive Bayes) e avaliar seu desempenho a partir das métricas ROC, AUC e matriz de confusão.\n",
        "\n"
      ]
    },
    {
      "cell_type": "markdown",
      "metadata": {
        "id": "0HVmpIxQWT4Y"
      },
      "source": [
        "## **Importando o necessário**\n",
        "\n",
        "\n",
        "Vamos começar importando os pacotes utilizados nesse artigo.\n",
        "\n"
      ]
    },
    {
      "cell_type": "code",
      "execution_count": 1,
      "metadata": {
        "id": "oQ4bNy7udtEE"
      },
      "outputs": [],
      "source": [
        "#suprimi os warnings\n",
        "from warnings import simplefilter\n",
        "simplefilter(action='ignore', category=FutureWarning)\n",
        "\n",
        "#importar os pacotes necessários\n",
        "import pandas as pd\n",
        "import matplotlib.pyplot as plt\n",
        "import numpy as np\n",
        "import seaborn as sns\n",
        "\n",
        "from sklearn.preprocessing import StandardScaler\n",
        "from sklearn.model_selection import train_test_split\n",
        "from sklearn.linear_model import LogisticRegression\n",
        "from sklearn.naive_bayes import GaussianNB\n",
        "from sklearn.ensemble import RandomForestClassifier\n",
        "from sklearn.metrics import roc_curve, roc_auc_score, confusion_matrix\n",
        "from imblearn.under_sampling import RandomUnderSampler \n",
        "from imblearn.over_sampling import RandomOverSampler\n",
        "\n",
        "#imprime todas as linhas quando solicitado\n",
        "pd.set_option('display.max_rows', None)"
      ]
    },
    {
      "cell_type": "markdown",
      "metadata": {
        "id": "4tC7O0nr6k83"
      },
      "source": [
        "Para simplificar o processo, fiz o download do dataset do Kaggle e subi para o meu [Dropbox](https://www.dropbox.com/s/9vs2z5bcc97gv44/credit_card_fraud.csv?dl=1) Sinta-se a vontade para usá-los! Já vou aproveitar e excluir as linhas repetidas. "
      ]
    },
    {
      "cell_type": "code",
      "execution_count": 2,
      "metadata": {
        "id": "4NxUOfDOj2j8",
        "colab": {
          "base_uri": "https://localhost:8080/"
        },
        "outputId": "c0b07cc7-26e3-44b4-93cf-25bb4126a972"
      },
      "outputs": [
        {
          "output_type": "stream",
          "name": "stdout",
          "text": [
            "Tamanho do dataset original: (284807, 31)\n",
            "Número de linhas removidas: 1081\n",
            "Tamanho do dataset limpo: (283726, 31)\n"
          ]
        }
      ],
      "source": [
        "#caminho de busca do dataframe\n",
        "file_path = \"https://www.dropbox.com/s/9vs2z5bcc97gv44/credit_card_fraud.csv?dl=1\"\n",
        "\n",
        "#importa os dados para um dataframe\n",
        "df = pd.read_csv(file_path)\n",
        "\n",
        "#visualiza a dimensão do conjunto original\n",
        "print(f'Tamanho do dataset original: {df.shape}')\n",
        "\n",
        "#remove linhas duplicadas\n",
        "oldLen = len(df)\n",
        "df.drop_duplicates(inplace=True)\n",
        "print(f'Número de linhas removidas: {oldLen-df.shape[0]}')\n",
        "\n",
        "#dimensão do conjunto atual\n",
        "print(f'Tamanho do dataset limpo: {df.shape}')"
      ]
    },
    {
      "cell_type": "markdown",
      "metadata": {
        "id": "1aIFO93b62ht"
      },
      "source": [
        "Com os dados prontos, vamos visualizar as cinco primeiras linhas."
      ]
    },
    {
      "cell_type": "code",
      "execution_count": 3,
      "metadata": {
        "id": "wLrZCQf-8rLm",
        "colab": {
          "base_uri": "https://localhost:8080/",
          "height": 300
        },
        "outputId": "e7881f68-bbce-4119-da33-5d69a4daa999"
      },
      "outputs": [
        {
          "output_type": "execute_result",
          "data": {
            "text/plain": [
              "   Time        V1        V2        V3        V4        V5        V6        V7  \\\n",
              "0   0.0 -1.359807 -0.072781  2.536347  1.378155 -0.338321  0.462388  0.239599   \n",
              "1   0.0  1.191857  0.266151  0.166480  0.448154  0.060018 -0.082361 -0.078803   \n",
              "2   1.0 -1.358354 -1.340163  1.773209  0.379780 -0.503198  1.800499  0.791461   \n",
              "3   1.0 -0.966272 -0.185226  1.792993 -0.863291 -0.010309  1.247203  0.237609   \n",
              "4   2.0 -1.158233  0.877737  1.548718  0.403034 -0.407193  0.095921  0.592941   \n",
              "\n",
              "         V8        V9  ...       V21       V22       V23       V24       V25  \\\n",
              "0  0.098698  0.363787  ... -0.018307  0.277838 -0.110474  0.066928  0.128539   \n",
              "1  0.085102 -0.255425  ... -0.225775 -0.638672  0.101288 -0.339846  0.167170   \n",
              "2  0.247676 -1.514654  ...  0.247998  0.771679  0.909412 -0.689281 -0.327642   \n",
              "3  0.377436 -1.387024  ... -0.108300  0.005274 -0.190321 -1.175575  0.647376   \n",
              "4 -0.270533  0.817739  ... -0.009431  0.798278 -0.137458  0.141267 -0.206010   \n",
              "\n",
              "        V26       V27       V28  Amount  Class  \n",
              "0 -0.189115  0.133558 -0.021053  149.62      0  \n",
              "1  0.125895 -0.008983  0.014724    2.69      0  \n",
              "2 -0.139097 -0.055353 -0.059752  378.66      0  \n",
              "3 -0.221929  0.062723  0.061458  123.50      0  \n",
              "4  0.502292  0.219422  0.215153   69.99      0  \n",
              "\n",
              "[5 rows x 31 columns]"
            ],
            "text/html": [
              "\n",
              "  <div id=\"df-dc288daa-f490-4a5b-90f8-ac5cd9e3d7e6\">\n",
              "    <div class=\"colab-df-container\">\n",
              "      <div>\n",
              "<style scoped>\n",
              "    .dataframe tbody tr th:only-of-type {\n",
              "        vertical-align: middle;\n",
              "    }\n",
              "\n",
              "    .dataframe tbody tr th {\n",
              "        vertical-align: top;\n",
              "    }\n",
              "\n",
              "    .dataframe thead th {\n",
              "        text-align: right;\n",
              "    }\n",
              "</style>\n",
              "<table border=\"1\" class=\"dataframe\">\n",
              "  <thead>\n",
              "    <tr style=\"text-align: right;\">\n",
              "      <th></th>\n",
              "      <th>Time</th>\n",
              "      <th>V1</th>\n",
              "      <th>V2</th>\n",
              "      <th>V3</th>\n",
              "      <th>V4</th>\n",
              "      <th>V5</th>\n",
              "      <th>V6</th>\n",
              "      <th>V7</th>\n",
              "      <th>V8</th>\n",
              "      <th>V9</th>\n",
              "      <th>...</th>\n",
              "      <th>V21</th>\n",
              "      <th>V22</th>\n",
              "      <th>V23</th>\n",
              "      <th>V24</th>\n",
              "      <th>V25</th>\n",
              "      <th>V26</th>\n",
              "      <th>V27</th>\n",
              "      <th>V28</th>\n",
              "      <th>Amount</th>\n",
              "      <th>Class</th>\n",
              "    </tr>\n",
              "  </thead>\n",
              "  <tbody>\n",
              "    <tr>\n",
              "      <th>0</th>\n",
              "      <td>0.0</td>\n",
              "      <td>-1.359807</td>\n",
              "      <td>-0.072781</td>\n",
              "      <td>2.536347</td>\n",
              "      <td>1.378155</td>\n",
              "      <td>-0.338321</td>\n",
              "      <td>0.462388</td>\n",
              "      <td>0.239599</td>\n",
              "      <td>0.098698</td>\n",
              "      <td>0.363787</td>\n",
              "      <td>...</td>\n",
              "      <td>-0.018307</td>\n",
              "      <td>0.277838</td>\n",
              "      <td>-0.110474</td>\n",
              "      <td>0.066928</td>\n",
              "      <td>0.128539</td>\n",
              "      <td>-0.189115</td>\n",
              "      <td>0.133558</td>\n",
              "      <td>-0.021053</td>\n",
              "      <td>149.62</td>\n",
              "      <td>0</td>\n",
              "    </tr>\n",
              "    <tr>\n",
              "      <th>1</th>\n",
              "      <td>0.0</td>\n",
              "      <td>1.191857</td>\n",
              "      <td>0.266151</td>\n",
              "      <td>0.166480</td>\n",
              "      <td>0.448154</td>\n",
              "      <td>0.060018</td>\n",
              "      <td>-0.082361</td>\n",
              "      <td>-0.078803</td>\n",
              "      <td>0.085102</td>\n",
              "      <td>-0.255425</td>\n",
              "      <td>...</td>\n",
              "      <td>-0.225775</td>\n",
              "      <td>-0.638672</td>\n",
              "      <td>0.101288</td>\n",
              "      <td>-0.339846</td>\n",
              "      <td>0.167170</td>\n",
              "      <td>0.125895</td>\n",
              "      <td>-0.008983</td>\n",
              "      <td>0.014724</td>\n",
              "      <td>2.69</td>\n",
              "      <td>0</td>\n",
              "    </tr>\n",
              "    <tr>\n",
              "      <th>2</th>\n",
              "      <td>1.0</td>\n",
              "      <td>-1.358354</td>\n",
              "      <td>-1.340163</td>\n",
              "      <td>1.773209</td>\n",
              "      <td>0.379780</td>\n",
              "      <td>-0.503198</td>\n",
              "      <td>1.800499</td>\n",
              "      <td>0.791461</td>\n",
              "      <td>0.247676</td>\n",
              "      <td>-1.514654</td>\n",
              "      <td>...</td>\n",
              "      <td>0.247998</td>\n",
              "      <td>0.771679</td>\n",
              "      <td>0.909412</td>\n",
              "      <td>-0.689281</td>\n",
              "      <td>-0.327642</td>\n",
              "      <td>-0.139097</td>\n",
              "      <td>-0.055353</td>\n",
              "      <td>-0.059752</td>\n",
              "      <td>378.66</td>\n",
              "      <td>0</td>\n",
              "    </tr>\n",
              "    <tr>\n",
              "      <th>3</th>\n",
              "      <td>1.0</td>\n",
              "      <td>-0.966272</td>\n",
              "      <td>-0.185226</td>\n",
              "      <td>1.792993</td>\n",
              "      <td>-0.863291</td>\n",
              "      <td>-0.010309</td>\n",
              "      <td>1.247203</td>\n",
              "      <td>0.237609</td>\n",
              "      <td>0.377436</td>\n",
              "      <td>-1.387024</td>\n",
              "      <td>...</td>\n",
              "      <td>-0.108300</td>\n",
              "      <td>0.005274</td>\n",
              "      <td>-0.190321</td>\n",
              "      <td>-1.175575</td>\n",
              "      <td>0.647376</td>\n",
              "      <td>-0.221929</td>\n",
              "      <td>0.062723</td>\n",
              "      <td>0.061458</td>\n",
              "      <td>123.50</td>\n",
              "      <td>0</td>\n",
              "    </tr>\n",
              "    <tr>\n",
              "      <th>4</th>\n",
              "      <td>2.0</td>\n",
              "      <td>-1.158233</td>\n",
              "      <td>0.877737</td>\n",
              "      <td>1.548718</td>\n",
              "      <td>0.403034</td>\n",
              "      <td>-0.407193</td>\n",
              "      <td>0.095921</td>\n",
              "      <td>0.592941</td>\n",
              "      <td>-0.270533</td>\n",
              "      <td>0.817739</td>\n",
              "      <td>...</td>\n",
              "      <td>-0.009431</td>\n",
              "      <td>0.798278</td>\n",
              "      <td>-0.137458</td>\n",
              "      <td>0.141267</td>\n",
              "      <td>-0.206010</td>\n",
              "      <td>0.502292</td>\n",
              "      <td>0.219422</td>\n",
              "      <td>0.215153</td>\n",
              "      <td>69.99</td>\n",
              "      <td>0</td>\n",
              "    </tr>\n",
              "  </tbody>\n",
              "</table>\n",
              "<p>5 rows × 31 columns</p>\n",
              "</div>\n",
              "      <button class=\"colab-df-convert\" onclick=\"convertToInteractive('df-dc288daa-f490-4a5b-90f8-ac5cd9e3d7e6')\"\n",
              "              title=\"Convert this dataframe to an interactive table.\"\n",
              "              style=\"display:none;\">\n",
              "        \n",
              "  <svg xmlns=\"http://www.w3.org/2000/svg\" height=\"24px\"viewBox=\"0 0 24 24\"\n",
              "       width=\"24px\">\n",
              "    <path d=\"M0 0h24v24H0V0z\" fill=\"none\"/>\n",
              "    <path d=\"M18.56 5.44l.94 2.06.94-2.06 2.06-.94-2.06-.94-.94-2.06-.94 2.06-2.06.94zm-11 1L8.5 8.5l.94-2.06 2.06-.94-2.06-.94L8.5 2.5l-.94 2.06-2.06.94zm10 10l.94 2.06.94-2.06 2.06-.94-2.06-.94-.94-2.06-.94 2.06-2.06.94z\"/><path d=\"M17.41 7.96l-1.37-1.37c-.4-.4-.92-.59-1.43-.59-.52 0-1.04.2-1.43.59L10.3 9.45l-7.72 7.72c-.78.78-.78 2.05 0 2.83L4 21.41c.39.39.9.59 1.41.59.51 0 1.02-.2 1.41-.59l7.78-7.78 2.81-2.81c.8-.78.8-2.07 0-2.86zM5.41 20L4 18.59l7.72-7.72 1.47 1.35L5.41 20z\"/>\n",
              "  </svg>\n",
              "      </button>\n",
              "      \n",
              "  <style>\n",
              "    .colab-df-container {\n",
              "      display:flex;\n",
              "      flex-wrap:wrap;\n",
              "      gap: 12px;\n",
              "    }\n",
              "\n",
              "    .colab-df-convert {\n",
              "      background-color: #E8F0FE;\n",
              "      border: none;\n",
              "      border-radius: 50%;\n",
              "      cursor: pointer;\n",
              "      display: none;\n",
              "      fill: #1967D2;\n",
              "      height: 32px;\n",
              "      padding: 0 0 0 0;\n",
              "      width: 32px;\n",
              "    }\n",
              "\n",
              "    .colab-df-convert:hover {\n",
              "      background-color: #E2EBFA;\n",
              "      box-shadow: 0px 1px 2px rgba(60, 64, 67, 0.3), 0px 1px 3px 1px rgba(60, 64, 67, 0.15);\n",
              "      fill: #174EA6;\n",
              "    }\n",
              "\n",
              "    [theme=dark] .colab-df-convert {\n",
              "      background-color: #3B4455;\n",
              "      fill: #D2E3FC;\n",
              "    }\n",
              "\n",
              "    [theme=dark] .colab-df-convert:hover {\n",
              "      background-color: #434B5C;\n",
              "      box-shadow: 0px 1px 3px 1px rgba(0, 0, 0, 0.15);\n",
              "      filter: drop-shadow(0px 1px 2px rgba(0, 0, 0, 0.3));\n",
              "      fill: #FFFFFF;\n",
              "    }\n",
              "  </style>\n",
              "\n",
              "      <script>\n",
              "        const buttonEl =\n",
              "          document.querySelector('#df-dc288daa-f490-4a5b-90f8-ac5cd9e3d7e6 button.colab-df-convert');\n",
              "        buttonEl.style.display =\n",
              "          google.colab.kernel.accessAllowed ? 'block' : 'none';\n",
              "\n",
              "        async function convertToInteractive(key) {\n",
              "          const element = document.querySelector('#df-dc288daa-f490-4a5b-90f8-ac5cd9e3d7e6');\n",
              "          const dataTable =\n",
              "            await google.colab.kernel.invokeFunction('convertToInteractive',\n",
              "                                                     [key], {});\n",
              "          if (!dataTable) return;\n",
              "\n",
              "          const docLinkHtml = 'Like what you see? Visit the ' +\n",
              "            '<a target=\"_blank\" href=https://colab.research.google.com/notebooks/data_table.ipynb>data table notebook</a>'\n",
              "            + ' to learn more about interactive tables.';\n",
              "          element.innerHTML = '';\n",
              "          dataTable['output_type'] = 'display_data';\n",
              "          await google.colab.output.renderOutput(dataTable, element);\n",
              "          const docLink = document.createElement('div');\n",
              "          docLink.innerHTML = docLinkHtml;\n",
              "          element.appendChild(docLink);\n",
              "        }\n",
              "      </script>\n",
              "    </div>\n",
              "  </div>\n",
              "  "
            ]
          },
          "metadata": {},
          "execution_count": 3
        }
      ],
      "source": [
        "#imprime as cinco primeiras linhas\n",
        "df.head()"
      ]
    },
    {
      "cell_type": "markdown",
      "metadata": {
        "id": "aRysnJd878I9"
      },
      "source": [
        "É impossível visualizar as primeiras variáveis do dataset e não ficar no mínimo curioso sobre o que elas significam. Como estou lidando com dados bancários que são reais e confidenciais, o verdadeiro significado das variáveis **V1** a **V28** passaram por redução de dimensionalidade. Foi utilizado uma técnica chamada **Análise de Componentes Principais** (ou *Principal Component Analysis*, PCA), que utiliza a variância dos dados para criar uma nova representação de menor dimensão. Para a nossa sorte, essa técnica também melhora a interpretação dos dados e diminui a perda da informação em modelos de M*achine Learning*.\n",
        "\n",
        "Além dessas variáveis, existem outras três que também merecem atenção. São elas:\n",
        "\n",
        "*\t**Time**: Tempo decorrente entre cada transação em relação a primeira.\n",
        "*\t**Amount**: Valor da transação bancária.\n",
        "*\t**Class**: Variável alvo, onde 0 corresponde a transações não-fraudulentas e 1 corresponde a transações fraudulentas. \n",
        "\n",
        "Agora que já sabemos o que significa cada uma, vamos dar uma olhada na estatística descritiva.\n"
      ]
    },
    {
      "cell_type": "code",
      "execution_count": 4,
      "metadata": {
        "cellView": "form",
        "id": "fRpqgT35eRfd",
        "colab": {
          "base_uri": "https://localhost:8080/",
          "height": 394
        },
        "outputId": "a035b38b-d6e1-4015-ab84-8d2c7dc07177"
      },
      "outputs": [
        {
          "output_type": "execute_result",
          "data": {
            "text/plain": [
              "                Time             V1             V2             V3  \\\n",
              "count  283726.000000  283726.000000  283726.000000  283726.000000   \n",
              "mean    94811.077600       0.005917      -0.004135       0.001613   \n",
              "std     47481.047891       1.948026       1.646703       1.508682   \n",
              "min         0.000000     -56.407510     -72.715728     -48.325589   \n",
              "25%     54204.750000      -0.915951      -0.600321      -0.889682   \n",
              "50%     84692.500000       0.020384       0.063949       0.179963   \n",
              "75%    139298.000000       1.316068       0.800283       1.026960   \n",
              "max    172792.000000       2.454930      22.057729       9.382558   \n",
              "\n",
              "                  V4             V5             V6             V7  \\\n",
              "count  283726.000000  283726.000000  283726.000000  283726.000000   \n",
              "mean       -0.002966       0.001828      -0.001139       0.001801   \n",
              "std         1.414184       1.377008       1.331931       1.227664   \n",
              "min        -5.683171    -113.743307     -26.160506     -43.557242   \n",
              "25%        -0.850134      -0.689830      -0.769031      -0.552509   \n",
              "50%        -0.022248      -0.053468      -0.275168       0.040859   \n",
              "75%         0.739647       0.612218       0.396792       0.570474   \n",
              "max        16.875344      34.801666      73.301626     120.589494   \n",
              "\n",
              "                  V8             V9  ...            V21            V22  \\\n",
              "count  283726.000000  283726.000000  ...  283726.000000  283726.000000   \n",
              "mean       -0.000854      -0.001596  ...      -0.000371      -0.000015   \n",
              "std         1.179054       1.095492  ...       0.723909       0.724550   \n",
              "min       -73.216718     -13.434066  ...     -34.830382     -10.933144   \n",
              "25%        -0.208828      -0.644221  ...      -0.228305      -0.542700   \n",
              "50%         0.021898      -0.052596  ...      -0.029441       0.006675   \n",
              "75%         0.325704       0.595977  ...       0.186194       0.528245   \n",
              "max        20.007208      15.594995  ...      27.202839      10.503090   \n",
              "\n",
              "                 V23            V24            V25            V26  \\\n",
              "count  283726.000000  283726.000000  283726.000000  283726.000000   \n",
              "mean        0.000198       0.000214      -0.000232       0.000149   \n",
              "std         0.623702       0.605627       0.521220       0.482053   \n",
              "min       -44.807735      -2.836627     -10.295397      -2.604551   \n",
              "25%        -0.161703      -0.354453      -0.317485      -0.326763   \n",
              "50%        -0.011159       0.041016       0.016278      -0.052172   \n",
              "75%         0.147748       0.439738       0.350667       0.240261   \n",
              "max        22.528412       4.584549       7.519589       3.517346   \n",
              "\n",
              "                 V27            V28         Amount          Class  \n",
              "count  283726.000000  283726.000000  283726.000000  283726.000000  \n",
              "mean        0.001763       0.000547      88.472687       0.001667  \n",
              "std         0.395744       0.328027     250.399437       0.040796  \n",
              "min       -22.565679     -15.430084       0.000000       0.000000  \n",
              "25%        -0.070641      -0.052818       5.600000       0.000000  \n",
              "50%         0.001479       0.011288      22.000000       0.000000  \n",
              "75%         0.091208       0.078276      77.510000       0.000000  \n",
              "max        31.612198      33.847808   25691.160000       1.000000  \n",
              "\n",
              "[8 rows x 31 columns]"
            ],
            "text/html": [
              "\n",
              "  <div id=\"df-e9378a07-b7d2-42de-abac-6d7ea0cb6666\">\n",
              "    <div class=\"colab-df-container\">\n",
              "      <div>\n",
              "<style scoped>\n",
              "    .dataframe tbody tr th:only-of-type {\n",
              "        vertical-align: middle;\n",
              "    }\n",
              "\n",
              "    .dataframe tbody tr th {\n",
              "        vertical-align: top;\n",
              "    }\n",
              "\n",
              "    .dataframe thead th {\n",
              "        text-align: right;\n",
              "    }\n",
              "</style>\n",
              "<table border=\"1\" class=\"dataframe\">\n",
              "  <thead>\n",
              "    <tr style=\"text-align: right;\">\n",
              "      <th></th>\n",
              "      <th>Time</th>\n",
              "      <th>V1</th>\n",
              "      <th>V2</th>\n",
              "      <th>V3</th>\n",
              "      <th>V4</th>\n",
              "      <th>V5</th>\n",
              "      <th>V6</th>\n",
              "      <th>V7</th>\n",
              "      <th>V8</th>\n",
              "      <th>V9</th>\n",
              "      <th>...</th>\n",
              "      <th>V21</th>\n",
              "      <th>V22</th>\n",
              "      <th>V23</th>\n",
              "      <th>V24</th>\n",
              "      <th>V25</th>\n",
              "      <th>V26</th>\n",
              "      <th>V27</th>\n",
              "      <th>V28</th>\n",
              "      <th>Amount</th>\n",
              "      <th>Class</th>\n",
              "    </tr>\n",
              "  </thead>\n",
              "  <tbody>\n",
              "    <tr>\n",
              "      <th>count</th>\n",
              "      <td>283726.000000</td>\n",
              "      <td>283726.000000</td>\n",
              "      <td>283726.000000</td>\n",
              "      <td>283726.000000</td>\n",
              "      <td>283726.000000</td>\n",
              "      <td>283726.000000</td>\n",
              "      <td>283726.000000</td>\n",
              "      <td>283726.000000</td>\n",
              "      <td>283726.000000</td>\n",
              "      <td>283726.000000</td>\n",
              "      <td>...</td>\n",
              "      <td>283726.000000</td>\n",
              "      <td>283726.000000</td>\n",
              "      <td>283726.000000</td>\n",
              "      <td>283726.000000</td>\n",
              "      <td>283726.000000</td>\n",
              "      <td>283726.000000</td>\n",
              "      <td>283726.000000</td>\n",
              "      <td>283726.000000</td>\n",
              "      <td>283726.000000</td>\n",
              "      <td>283726.000000</td>\n",
              "    </tr>\n",
              "    <tr>\n",
              "      <th>mean</th>\n",
              "      <td>94811.077600</td>\n",
              "      <td>0.005917</td>\n",
              "      <td>-0.004135</td>\n",
              "      <td>0.001613</td>\n",
              "      <td>-0.002966</td>\n",
              "      <td>0.001828</td>\n",
              "      <td>-0.001139</td>\n",
              "      <td>0.001801</td>\n",
              "      <td>-0.000854</td>\n",
              "      <td>-0.001596</td>\n",
              "      <td>...</td>\n",
              "      <td>-0.000371</td>\n",
              "      <td>-0.000015</td>\n",
              "      <td>0.000198</td>\n",
              "      <td>0.000214</td>\n",
              "      <td>-0.000232</td>\n",
              "      <td>0.000149</td>\n",
              "      <td>0.001763</td>\n",
              "      <td>0.000547</td>\n",
              "      <td>88.472687</td>\n",
              "      <td>0.001667</td>\n",
              "    </tr>\n",
              "    <tr>\n",
              "      <th>std</th>\n",
              "      <td>47481.047891</td>\n",
              "      <td>1.948026</td>\n",
              "      <td>1.646703</td>\n",
              "      <td>1.508682</td>\n",
              "      <td>1.414184</td>\n",
              "      <td>1.377008</td>\n",
              "      <td>1.331931</td>\n",
              "      <td>1.227664</td>\n",
              "      <td>1.179054</td>\n",
              "      <td>1.095492</td>\n",
              "      <td>...</td>\n",
              "      <td>0.723909</td>\n",
              "      <td>0.724550</td>\n",
              "      <td>0.623702</td>\n",
              "      <td>0.605627</td>\n",
              "      <td>0.521220</td>\n",
              "      <td>0.482053</td>\n",
              "      <td>0.395744</td>\n",
              "      <td>0.328027</td>\n",
              "      <td>250.399437</td>\n",
              "      <td>0.040796</td>\n",
              "    </tr>\n",
              "    <tr>\n",
              "      <th>min</th>\n",
              "      <td>0.000000</td>\n",
              "      <td>-56.407510</td>\n",
              "      <td>-72.715728</td>\n",
              "      <td>-48.325589</td>\n",
              "      <td>-5.683171</td>\n",
              "      <td>-113.743307</td>\n",
              "      <td>-26.160506</td>\n",
              "      <td>-43.557242</td>\n",
              "      <td>-73.216718</td>\n",
              "      <td>-13.434066</td>\n",
              "      <td>...</td>\n",
              "      <td>-34.830382</td>\n",
              "      <td>-10.933144</td>\n",
              "      <td>-44.807735</td>\n",
              "      <td>-2.836627</td>\n",
              "      <td>-10.295397</td>\n",
              "      <td>-2.604551</td>\n",
              "      <td>-22.565679</td>\n",
              "      <td>-15.430084</td>\n",
              "      <td>0.000000</td>\n",
              "      <td>0.000000</td>\n",
              "    </tr>\n",
              "    <tr>\n",
              "      <th>25%</th>\n",
              "      <td>54204.750000</td>\n",
              "      <td>-0.915951</td>\n",
              "      <td>-0.600321</td>\n",
              "      <td>-0.889682</td>\n",
              "      <td>-0.850134</td>\n",
              "      <td>-0.689830</td>\n",
              "      <td>-0.769031</td>\n",
              "      <td>-0.552509</td>\n",
              "      <td>-0.208828</td>\n",
              "      <td>-0.644221</td>\n",
              "      <td>...</td>\n",
              "      <td>-0.228305</td>\n",
              "      <td>-0.542700</td>\n",
              "      <td>-0.161703</td>\n",
              "      <td>-0.354453</td>\n",
              "      <td>-0.317485</td>\n",
              "      <td>-0.326763</td>\n",
              "      <td>-0.070641</td>\n",
              "      <td>-0.052818</td>\n",
              "      <td>5.600000</td>\n",
              "      <td>0.000000</td>\n",
              "    </tr>\n",
              "    <tr>\n",
              "      <th>50%</th>\n",
              "      <td>84692.500000</td>\n",
              "      <td>0.020384</td>\n",
              "      <td>0.063949</td>\n",
              "      <td>0.179963</td>\n",
              "      <td>-0.022248</td>\n",
              "      <td>-0.053468</td>\n",
              "      <td>-0.275168</td>\n",
              "      <td>0.040859</td>\n",
              "      <td>0.021898</td>\n",
              "      <td>-0.052596</td>\n",
              "      <td>...</td>\n",
              "      <td>-0.029441</td>\n",
              "      <td>0.006675</td>\n",
              "      <td>-0.011159</td>\n",
              "      <td>0.041016</td>\n",
              "      <td>0.016278</td>\n",
              "      <td>-0.052172</td>\n",
              "      <td>0.001479</td>\n",
              "      <td>0.011288</td>\n",
              "      <td>22.000000</td>\n",
              "      <td>0.000000</td>\n",
              "    </tr>\n",
              "    <tr>\n",
              "      <th>75%</th>\n",
              "      <td>139298.000000</td>\n",
              "      <td>1.316068</td>\n",
              "      <td>0.800283</td>\n",
              "      <td>1.026960</td>\n",
              "      <td>0.739647</td>\n",
              "      <td>0.612218</td>\n",
              "      <td>0.396792</td>\n",
              "      <td>0.570474</td>\n",
              "      <td>0.325704</td>\n",
              "      <td>0.595977</td>\n",
              "      <td>...</td>\n",
              "      <td>0.186194</td>\n",
              "      <td>0.528245</td>\n",
              "      <td>0.147748</td>\n",
              "      <td>0.439738</td>\n",
              "      <td>0.350667</td>\n",
              "      <td>0.240261</td>\n",
              "      <td>0.091208</td>\n",
              "      <td>0.078276</td>\n",
              "      <td>77.510000</td>\n",
              "      <td>0.000000</td>\n",
              "    </tr>\n",
              "    <tr>\n",
              "      <th>max</th>\n",
              "      <td>172792.000000</td>\n",
              "      <td>2.454930</td>\n",
              "      <td>22.057729</td>\n",
              "      <td>9.382558</td>\n",
              "      <td>16.875344</td>\n",
              "      <td>34.801666</td>\n",
              "      <td>73.301626</td>\n",
              "      <td>120.589494</td>\n",
              "      <td>20.007208</td>\n",
              "      <td>15.594995</td>\n",
              "      <td>...</td>\n",
              "      <td>27.202839</td>\n",
              "      <td>10.503090</td>\n",
              "      <td>22.528412</td>\n",
              "      <td>4.584549</td>\n",
              "      <td>7.519589</td>\n",
              "      <td>3.517346</td>\n",
              "      <td>31.612198</td>\n",
              "      <td>33.847808</td>\n",
              "      <td>25691.160000</td>\n",
              "      <td>1.000000</td>\n",
              "    </tr>\n",
              "  </tbody>\n",
              "</table>\n",
              "<p>8 rows × 31 columns</p>\n",
              "</div>\n",
              "      <button class=\"colab-df-convert\" onclick=\"convertToInteractive('df-e9378a07-b7d2-42de-abac-6d7ea0cb6666')\"\n",
              "              title=\"Convert this dataframe to an interactive table.\"\n",
              "              style=\"display:none;\">\n",
              "        \n",
              "  <svg xmlns=\"http://www.w3.org/2000/svg\" height=\"24px\"viewBox=\"0 0 24 24\"\n",
              "       width=\"24px\">\n",
              "    <path d=\"M0 0h24v24H0V0z\" fill=\"none\"/>\n",
              "    <path d=\"M18.56 5.44l.94 2.06.94-2.06 2.06-.94-2.06-.94-.94-2.06-.94 2.06-2.06.94zm-11 1L8.5 8.5l.94-2.06 2.06-.94-2.06-.94L8.5 2.5l-.94 2.06-2.06.94zm10 10l.94 2.06.94-2.06 2.06-.94-2.06-.94-.94-2.06-.94 2.06-2.06.94z\"/><path d=\"M17.41 7.96l-1.37-1.37c-.4-.4-.92-.59-1.43-.59-.52 0-1.04.2-1.43.59L10.3 9.45l-7.72 7.72c-.78.78-.78 2.05 0 2.83L4 21.41c.39.39.9.59 1.41.59.51 0 1.02-.2 1.41-.59l7.78-7.78 2.81-2.81c.8-.78.8-2.07 0-2.86zM5.41 20L4 18.59l7.72-7.72 1.47 1.35L5.41 20z\"/>\n",
              "  </svg>\n",
              "      </button>\n",
              "      \n",
              "  <style>\n",
              "    .colab-df-container {\n",
              "      display:flex;\n",
              "      flex-wrap:wrap;\n",
              "      gap: 12px;\n",
              "    }\n",
              "\n",
              "    .colab-df-convert {\n",
              "      background-color: #E8F0FE;\n",
              "      border: none;\n",
              "      border-radius: 50%;\n",
              "      cursor: pointer;\n",
              "      display: none;\n",
              "      fill: #1967D2;\n",
              "      height: 32px;\n",
              "      padding: 0 0 0 0;\n",
              "      width: 32px;\n",
              "    }\n",
              "\n",
              "    .colab-df-convert:hover {\n",
              "      background-color: #E2EBFA;\n",
              "      box-shadow: 0px 1px 2px rgba(60, 64, 67, 0.3), 0px 1px 3px 1px rgba(60, 64, 67, 0.15);\n",
              "      fill: #174EA6;\n",
              "    }\n",
              "\n",
              "    [theme=dark] .colab-df-convert {\n",
              "      background-color: #3B4455;\n",
              "      fill: #D2E3FC;\n",
              "    }\n",
              "\n",
              "    [theme=dark] .colab-df-convert:hover {\n",
              "      background-color: #434B5C;\n",
              "      box-shadow: 0px 1px 3px 1px rgba(0, 0, 0, 0.15);\n",
              "      filter: drop-shadow(0px 1px 2px rgba(0, 0, 0, 0.3));\n",
              "      fill: #FFFFFF;\n",
              "    }\n",
              "  </style>\n",
              "\n",
              "      <script>\n",
              "        const buttonEl =\n",
              "          document.querySelector('#df-e9378a07-b7d2-42de-abac-6d7ea0cb6666 button.colab-df-convert');\n",
              "        buttonEl.style.display =\n",
              "          google.colab.kernel.accessAllowed ? 'block' : 'none';\n",
              "\n",
              "        async function convertToInteractive(key) {\n",
              "          const element = document.querySelector('#df-e9378a07-b7d2-42de-abac-6d7ea0cb6666');\n",
              "          const dataTable =\n",
              "            await google.colab.kernel.invokeFunction('convertToInteractive',\n",
              "                                                     [key], {});\n",
              "          if (!dataTable) return;\n",
              "\n",
              "          const docLinkHtml = 'Like what you see? Visit the ' +\n",
              "            '<a target=\"_blank\" href=https://colab.research.google.com/notebooks/data_table.ipynb>data table notebook</a>'\n",
              "            + ' to learn more about interactive tables.';\n",
              "          element.innerHTML = '';\n",
              "          dataTable['output_type'] = 'display_data';\n",
              "          await google.colab.output.renderOutput(dataTable, element);\n",
              "          const docLink = document.createElement('div');\n",
              "          docLink.innerHTML = docLinkHtml;\n",
              "          element.appendChild(docLink);\n",
              "        }\n",
              "      </script>\n",
              "    </div>\n",
              "  </div>\n",
              "  "
            ]
          },
          "metadata": {},
          "execution_count": 4
        }
      ],
      "source": [
        "#@title\n",
        "#imprime a estatística descritiva\n",
        "df.describe()"
      ]
    },
    {
      "cell_type": "markdown",
      "metadata": {
        "id": "X4WL21VH8sZd"
      },
      "source": [
        "Podemos observar que existe uma diferença considerável entre os valores mínimos e máximos de cada variável. Essa característica costuma ser encontrada em variáveis que apresentam valores ***outliers***. Também um existe um desbalanceamento dos dados que deve ser avaliado devido a diferença encontrada entre os valores da média e mediana. Vamos avaliar essa questão mais adiante. \n",
        "\n",
        "Agora, vamos verificar se existem valores nulos no nosso dataset."
      ]
    },
    {
      "cell_type": "code",
      "execution_count": 5,
      "metadata": {
        "cellView": "form",
        "id": "LykhQM5PHaVd",
        "colab": {
          "base_uri": "https://localhost:8080/"
        },
        "outputId": "dc6a39da-9bc3-4930-c8d7-b3da6c81e3d7"
      },
      "outputs": [
        {
          "output_type": "execute_result",
          "data": {
            "text/plain": [
              "Time      0.0\n",
              "V1        0.0\n",
              "V2        0.0\n",
              "V3        0.0\n",
              "V4        0.0\n",
              "V5        0.0\n",
              "V6        0.0\n",
              "V7        0.0\n",
              "V8        0.0\n",
              "V9        0.0\n",
              "V10       0.0\n",
              "V11       0.0\n",
              "V12       0.0\n",
              "V13       0.0\n",
              "V14       0.0\n",
              "V15       0.0\n",
              "V16       0.0\n",
              "V17       0.0\n",
              "V18       0.0\n",
              "V19       0.0\n",
              "V20       0.0\n",
              "V21       0.0\n",
              "V22       0.0\n",
              "V23       0.0\n",
              "V24       0.0\n",
              "V25       0.0\n",
              "V26       0.0\n",
              "V27       0.0\n",
              "V28       0.0\n",
              "Amount    0.0\n",
              "Class     0.0\n",
              "dtype: float64"
            ]
          },
          "metadata": {},
          "execution_count": 5
        }
      ],
      "source": [
        "#@title\n",
        "#verifica a porcentagem de valores nulos\n",
        "(df.isnull().sum()/df.shape[0])*100"
      ]
    },
    {
      "cell_type": "markdown",
      "metadata": {
        "id": "zEmcohKM81sp"
      },
      "source": [
        "Veja que o dataset não apresentou nenhum valor nulo. E como será que está a distribuição entre as variáveis alvo?"
      ]
    },
    {
      "cell_type": "code",
      "execution_count": 6,
      "metadata": {
        "cellView": "form",
        "id": "n8rgj7Roecdi",
        "colab": {
          "base_uri": "https://localhost:8080/",
          "height": 396
        },
        "outputId": "e994cfed-ef03-493f-ca41-b62a17a8a569"
      },
      "outputs": [
        {
          "output_type": "display_data",
          "data": {
            "text/plain": [
              "<Figure size 720x432 with 1 Axes>"
            ],
            "image/png": "[encoded data removed]"
          },
          "metadata": {
            "needs_background": "light"
          }
        }
      ],
      "source": [
        "#@title\n",
        "classes = df.Class.value_counts()\n",
        "\n",
        "fig, ax = plt.subplots(figsize=(10, 6))\n",
        "\n",
        "ax.set_title('Transações Válidas e Fraudulentas', fontsize='16')\n",
        "classes.plot(kind='bar', alpha=.6, width=.3)\n",
        "\n",
        "ax.set_xticklabels(['Válidas - 0', 'Fraudulentas - 1'], rotation=360, fontsize=12)\n",
        "ax.set_yticklabels('')\n",
        "ax.get_yaxis().set_ticks([])\n",
        "\n",
        "ax.set_ylim(0, df.shape[0]+30000)\n",
        "\n",
        "\n",
        "for i, v in enumerate(classes):\n",
        "  ax.text(i, v+8000, str(int(v)), horizontalalignment='center', fontsize=14)\n",
        "\n",
        "ax.spines[\"top\"].set_visible(False)\n",
        "ax.spines[\"left\"].set_visible(False)\n",
        "ax.spines[\"right\"].set_visible(False)\n",
        "\n",
        "plt.show()"
      ]
    },
    {
      "cell_type": "markdown",
      "metadata": {
        "id": "hEENxi2Y-uFn"
      },
      "source": [
        "Por mais estranho que pareça, esse resultado é mais comum do que se imagina. Vamos pensar que um banco faça milhares (ou milhões) de transações bancárias diariamente, com depósitos, transferências e saques por parte dos clientes, sendo elas totalmente legítimas.\n",
        "\n",
        "Com novos golpes surgindo, os bancos precisam agir rápido para cada movimentação suspeita. Só quem teve cartão bloqueado sabe o inconveniente que é, mas isso diz muito sobre como o banco age quando ocorre movimentações duvidosas. É chamado de **falso positivo** quando uma movimentação financeira é legítima e mesmo assim foi detectada como fraude. Prever ações fraudulentas são verdadeiros desafios quando levamos em consideração os dados que existem para serem analisados. O que importa para os bancos, em casos de fraude, é a detecção do **verdadeiro positivo**, onde é possível confirmar que aquela atividade é real. Vamos ver mais sobre isso na **matriz de confusão**.\n"
      ]
    },
    {
      "cell_type": "code",
      "execution_count": 7,
      "metadata": {
        "cellView": "form",
        "id": "lVj9IVeQnwxZ",
        "colab": {
          "base_uri": "https://localhost:8080/"
        },
        "outputId": "12812648-c4c5-43fa-9dde-cd8887619a12"
      },
      "outputs": [
        {
          "output_type": "stream",
          "name": "stdout",
          "text": [
            "O dataset contém 0.17% de transações fraudulentas e 99.83% de transações válidas.\n"
          ]
        }
      ],
      "source": [
        "#@title\n",
        "print(f'O dataset contém {df[df.Class == 1].Class.count()/df.shape[0]*100:.2f}% de transações fraudulentas \\\n",
        "e {df[df.Class == 0].Class.count()/df.shape[0]*100:.2f}% de transações válidas.')"
      ]
    },
    {
      "cell_type": "markdown",
      "metadata": {
        "id": "ahF_JsUg_Pss"
      },
      "source": [
        "Veja que o dataset possui somente 0.17% de transações fraudulentas para serem detectadas. Com toda essa diferença, é interessante ir mais fundo e analisar as classes de maneira individual. Será que elas apresentam comportamentos semelhantes? Vamos avaliar o histograma da variável *Time*."
      ]
    },
    {
      "cell_type": "code",
      "execution_count": 8,
      "metadata": {
        "cellView": "form",
        "id": "ZvH1j5iLD0DL",
        "colab": {
          "base_uri": "https://localhost:8080/",
          "height": 441
        },
        "outputId": "57e799cc-6244-437d-c400-5355ec073bbe"
      },
      "outputs": [
        {
          "output_type": "display_data",
          "data": {
            "text/plain": [
              "<Figure size 864x432 with 2 Axes>"
            ],
            "image/png": "[encoded data removed]"
          },
          "metadata": {
            "needs_background": "light"
          }
        }
      ],
      "source": [
        "#@title\n",
        "fig, ax = plt.subplots(ncols=1, nrows=2, figsize=(12, 6))\n",
        "\n",
        "ax[0].set_title('Transações válidas - 0', fontsize=16)\n",
        "ax[0].hist(df.Time[df.Class == 0], bins=40, alpha=.5)\n",
        "\n",
        "ax[0].spines[\"top\"].set_visible(False)\n",
        "ax[0].spines[\"right\"].set_visible(False)\n",
        "ax[0].spines[\"left\"].set_visible(False)\n",
        "\n",
        "ax[1].set_title('Transações Fraudulentas - 1', fontsize=16)\n",
        "ax[1].hist(df.Time[df.Class == 1], bins=40, alpha=.5)\n",
        "\n",
        "ax[1].spines[\"top\"].set_visible(False)\n",
        "ax[1].spines[\"right\"].set_visible(False)\n",
        "ax[1].spines[\"left\"].set_visible(False)\n",
        "\n",
        "ax[1].set_xlabel('Tempo (segundos)', fontsize=12)\n",
        "ax[1].set_ylabel('Transações bancárias', fontsize=12)\n",
        "\n",
        "plt.tight_layout()"
      ]
    },
    {
      "cell_type": "markdown",
      "metadata": {
        "id": "SquEsM3gAIaJ"
      },
      "source": [
        "Com o histograma fica claro (e óbvio) que existe um número baixo de transações fraudulentas e sem um comportamento muito bem definido. Vamos dar uma olhada na variável *Amount*."
      ]
    },
    {
      "cell_type": "code",
      "execution_count": 9,
      "metadata": {
        "cellView": "form",
        "id": "Q1LVoFM1sCXt",
        "colab": {
          "base_uri": "https://localhost:8080/",
          "height": 441
        },
        "outputId": "09670ab8-3cb6-4521-eca0-8581ec1ec09e"
      },
      "outputs": [
        {
          "output_type": "display_data",
          "data": {
            "text/plain": [
              "<Figure size 864x432 with 2 Axes>"
            ],
            "image/png": "[encoded data removed]"
          },
          "metadata": {
            "needs_background": "light"
          }
        }
      ],
      "source": [
        "#@title\n",
        "fig, ax = plt.subplots(ncols=1, nrows=2, figsize=(12, 6))\n",
        "\n",
        "ax[0].set_title('Transações válidas - 0', fontsize=16)\n",
        "ax[0].hist(df.Amount[df.Class == 0], bins=40, alpha=.5)\n",
        "\n",
        "ax[0].spines[\"top\"].set_visible(False)\n",
        "ax[0].spines[\"right\"].set_visible(False)\n",
        "ax[0].spines[\"left\"].set_visible(False)\n",
        "\n",
        "ax[1].set_title('Transações Fraudulentas - 1', fontsize=16)\n",
        "ax[1].hist(df.Amount[df.Class == 1], bins=40, alpha=.5)\n",
        "\n",
        "ax[1].spines[\"top\"].set_visible(False)\n",
        "ax[1].spines[\"right\"].set_visible(False)\n",
        "ax[1].spines[\"left\"].set_visible(False)\n",
        "\n",
        "ax[1].set_xlabel('Valor da transação', fontsize=12)\n",
        "ax[1].set_ylabel('Transações bancárias', fontsize=12)\n",
        "\n",
        "plt.tight_layout()"
      ]
    },
    {
      "cell_type": "markdown",
      "metadata": {
        "id": "bAx0Tp6GA2dy"
      },
      "source": [
        "Apesar da grandeza entre as classes ser bastante diferente, ao visualizar o histograma da variável *Amount*, podemos ver algo que chama a atenção. Nas transações válidas, existem um pico logo no início e que desaparece conforme vai aumentando o valor da transação. Para as transações fraudulentas, também existe esse pico, mas que segue em menor quantidade ao longo do eixo X. Esse característica pode ser indício de outros ataques em menor escala. Vamos avaliar agora o gráfico boxplot."
      ]
    },
    {
      "cell_type": "code",
      "execution_count": 10,
      "metadata": {
        "cellView": "form",
        "id": "9_s7Sf2zRCVy",
        "colab": {
          "base_uri": "https://localhost:8080/",
          "height": 441
        },
        "outputId": "3fb42ec9-9ffa-40d1-93c1-bd30514f0101"
      },
      "outputs": [
        {
          "output_type": "display_data",
          "data": {
            "text/plain": [
              "<Figure size 864x432 with 2 Axes>"
            ],
            "image/png": "[encoded data removed]"
          },
          "metadata": {
            "needs_background": "light"
          }
        }
      ],
      "source": [
        "#@title\n",
        "fig, ax = plt.subplots(ncols=1, nrows=2, figsize=(12,6))\n",
        "\n",
        "ax[0].set_title('Transações válidas - 0', fontsize=16)\n",
        "ax[0].boxplot(df.Amount[df.Class == 0], vert=False, patch_artist=True, notch=True, showfliers=False)\n",
        "\n",
        "ax[0].set_yticks([])\n",
        "ax[0].set_xlim(0,275)\n",
        "\n",
        "ax[0].spines[\"top\"].set_visible(False)\n",
        "ax[0].spines[\"right\"].set_visible(False)\n",
        "ax[0].spines[\"left\"].set_visible(False)\n",
        "\n",
        "ax[0].set_yticklabels([''])\n",
        "\n",
        "ax[1].set_title('Transações fraudulentas - 1', fontsize=16)\n",
        "ax[1].boxplot(df.Amount[df.Class == 1], vert=False, patch_artist=True, notch=True, showfliers=False)\n",
        "\n",
        "ax[1].set_yticks([])\n",
        "ax[1].set_xlim(0,275)\n",
        "\n",
        "ax[1].spines[\"top\"].set_visible(False)\n",
        "ax[1].spines[\"right\"].set_visible(False)\n",
        "ax[1].spines[\"left\"].set_visible(False)\n",
        "\n",
        "ax[1].set_xlabel('Amount', fontsize=12)\n",
        "plt.tight_layout()"
      ]
    },
    {
      "cell_type": "markdown",
      "metadata": {
        "id": "uoKbYAqhBxu4"
      },
      "source": [
        "Ao visualizar apenas o valor máximo de cada classe podemos ver que existe uma diferença considerável entre os valores das transações fraudulentas e válidas. Vale ressalvar que os valores outliers (muitos, por sinal) foram desconsiderados no gráfico boxplot. \n",
        "\n",
        "Acredito que também faça sentido refazer a estatística descritiva com o dataset separado por classe. Observe o valor médio das transações e tire suas próprias conclusões."
      ]
    },
    {
      "cell_type": "code",
      "execution_count": 11,
      "metadata": {
        "cellView": "form",
        "id": "g4Bna8NtIty_",
        "colab": {
          "base_uri": "https://localhost:8080/"
        },
        "outputId": "2b40d218-2240-4da9-bb07-a28723de351f"
      },
      "outputs": [
        {
          "output_type": "stream",
          "name": "stdout",
          "text": [
            "Estatística descritiva para a classe 0\n",
            "\n",
            "count    283253.000000\n",
            "mean         88.413575\n",
            "std         250.379023\n",
            "min           0.000000\n",
            "25%           5.670000\n",
            "50%          22.000000\n",
            "75%          77.460000\n",
            "max       25691.160000\n",
            "Name: Amount, dtype: float64\n",
            "~~~~~~~~~~~~~~~~~~~~~~~~~~~~~~~~~~~~~~~~\n",
            "Estatística descritiva para a classe 1\n",
            "\n",
            "count     473.000000\n",
            "mean      123.871860\n",
            "std       260.211041\n",
            "min         0.000000\n",
            "25%         1.000000\n",
            "50%         9.820000\n",
            "75%       105.890000\n",
            "max      2125.870000\n",
            "Name: Amount, dtype: float64\n"
          ]
        }
      ],
      "source": [
        "#@title\n",
        "print('Estatística descritiva para a classe 0\\n')\n",
        "print(df[df.Class == 0].Amount.describe())\n",
        "print('~~'*20)\n",
        "print('Estatística descritiva para a classe 1\\n')\n",
        "print(df[df.Class == 1].Amount.describe())"
      ]
    },
    {
      "cell_type": "markdown",
      "metadata": {
        "id": "ULe7z0jZt0EH"
      },
      "source": [
        "## **Preparação dos Dados**\n",
        "\n"
      ]
    },
    {
      "cell_type": "markdown",
      "metadata": {
        "id": "jaJRVV_xB-Rb"
      },
      "source": [
        "Até aqui, conhecemos melhor o dataset e vimos alguns dos problemas que podem ser desafios durante a análise. Como vou fazer algumas modificações no dataset, melhor criar uma cópia do arquivo original."
      ]
    },
    {
      "cell_type": "code",
      "execution_count": 12,
      "metadata": {
        "id": "KtkZDMCZsU18"
      },
      "outputs": [],
      "source": [
        "#cria uma cópia do dataset\n",
        "df_clean = df.copy()"
      ]
    },
    {
      "cell_type": "markdown",
      "metadata": {
        "id": "6IzuLwICD3uE"
      },
      "source": [
        "Uma coisa que sempre devemos avaliar em qualquer dataset é se os dados pertencem a uma mesma escala. Como vimos anteriormente, as variáveis de *V1* a *V28* são confidenciais e, por isso, foram transformadas em PCA, com uma mesma escala de medida entre elas, enquanto as classes *Time* e *Amount* permaneceram originais. Podemos usar como exemplo a classe *Time*, que é medida por segundos, enquanto a variável *Amount*, simboliza a quantidade de dinheiro, seja ele qual for.\n",
        "\n",
        "Para evitar qualquer inconveniente futuro, vou deixá-los em uma mesma escala utilizando o pacote [**StandardScaler()**](https://scikit-learn.org/stable/modules/generated/sklearn.preprocessing.StandardScaler.html). Essa técnica irá redimensionar nossa feature a partir da subtração da média dividido pelo desvio padrão.  Como resultado, os dados passam a ter uma média zero e desvio padrão 1. \n",
        "\n",
        "Vamos fazer a transformação e visualizar os resultados.\n"
      ]
    },
    {
      "cell_type": "code",
      "execution_count": 13,
      "metadata": {
        "id": "IqfjG_SUSTi-",
        "colab": {
          "base_uri": "https://localhost:8080/",
          "height": 300
        },
        "outputId": "2eb393e2-867a-4f7e-aee5-7e2540096f6c"
      },
      "outputs": [
        {
          "output_type": "execute_result",
          "data": {
            "text/plain": [
              "         V1        V2        V3        V4        V5        V6        V7  \\\n",
              "0 -1.359807 -0.072781  2.536347  1.378155 -0.338321  0.462388  0.239599   \n",
              "1  1.191857  0.266151  0.166480  0.448154  0.060018 -0.082361 -0.078803   \n",
              "2 -1.358354 -1.340163  1.773209  0.379780 -0.503198  1.800499  0.791461   \n",
              "3 -0.966272 -0.185226  1.792993 -0.863291 -0.010309  1.247203  0.237609   \n",
              "4 -1.158233  0.877737  1.548718  0.403034 -0.407193  0.095921  0.592941   \n",
              "\n",
              "         V8        V9       V10  ...       V22       V23       V24       V25  \\\n",
              "0  0.098698  0.363787  0.090794  ...  0.277838 -0.110474  0.066928  0.128539   \n",
              "1  0.085102 -0.255425 -0.166974  ... -0.638672  0.101288 -0.339846  0.167170   \n",
              "2  0.247676 -1.514654  0.207643  ...  0.771679  0.909412 -0.689281 -0.327642   \n",
              "3  0.377436 -1.387024 -0.054952  ...  0.005274 -0.190321 -1.175575  0.647376   \n",
              "4 -0.270533  0.817739  0.753074  ...  0.798278 -0.137458  0.141267 -0.206010   \n",
              "\n",
              "        V26       V27       V28  Class  std_amount  std_time  \n",
              "0 -0.189115  0.133558 -0.021053      0    0.244200 -1.996823  \n",
              "1  0.125895 -0.008983  0.014724      0   -0.342584 -1.996823  \n",
              "2 -0.139097 -0.055353 -0.059752      0    1.158900 -1.996802  \n",
              "3 -0.221929  0.062723  0.061458      0    0.139886 -1.996802  \n",
              "4  0.502292  0.219422  0.215153      0   -0.073813 -1.996781  \n",
              "\n",
              "[5 rows x 31 columns]"
            ],
            "text/html": [
              "\n",
              "  <div id=\"df-67605fae-17ed-4008-827c-250decd85388\">\n",
              "    <div class=\"colab-df-container\">\n",
              "      <div>\n",
              "<style scoped>\n",
              "    .dataframe tbody tr th:only-of-type {\n",
              "        vertical-align: middle;\n",
              "    }\n",
              "\n",
              "    .dataframe tbody tr th {\n",
              "        vertical-align: top;\n",
              "    }\n",
              "\n",
              "    .dataframe thead th {\n",
              "        text-align: right;\n",
              "    }\n",
              "</style>\n",
              "<table border=\"1\" class=\"dataframe\">\n",
              "  <thead>\n",
              "    <tr style=\"text-align: right;\">\n",
              "      <th></th>\n",
              "      <th>V1</th>\n",
              "      <th>V2</th>\n",
              "      <th>V3</th>\n",
              "      <th>V4</th>\n",
              "      <th>V5</th>\n",
              "      <th>V6</th>\n",
              "      <th>V7</th>\n",
              "      <th>V8</th>\n",
              "      <th>V9</th>\n",
              "      <th>V10</th>\n",
              "      <th>...</th>\n",
              "      <th>V22</th>\n",
              "      <th>V23</th>\n",
              "      <th>V24</th>\n",
              "      <th>V25</th>\n",
              "      <th>V26</th>\n",
              "      <th>V27</th>\n",
              "      <th>V28</th>\n",
              "      <th>Class</th>\n",
              "      <th>std_amount</th>\n",
              "      <th>std_time</th>\n",
              "    </tr>\n",
              "  </thead>\n",
              "  <tbody>\n",
              "    <tr>\n",
              "      <th>0</th>\n",
              "      <td>-1.359807</td>\n",
              "      <td>-0.072781</td>\n",
              "      <td>2.536347</td>\n",
              "      <td>1.378155</td>\n",
              "      <td>-0.338321</td>\n",
              "      <td>0.462388</td>\n",
              "      <td>0.239599</td>\n",
              "      <td>0.098698</td>\n",
              "      <td>0.363787</td>\n",
              "      <td>0.090794</td>\n",
              "      <td>...</td>\n",
              "      <td>0.277838</td>\n",
              "      <td>-0.110474</td>\n",
              "      <td>0.066928</td>\n",
              "      <td>0.128539</td>\n",
              "      <td>-0.189115</td>\n",
              "      <td>0.133558</td>\n",
              "      <td>-0.021053</td>\n",
              "      <td>0</td>\n",
              "      <td>0.244200</td>\n",
              "      <td>-1.996823</td>\n",
              "    </tr>\n",
              "    <tr>\n",
              "      <th>1</th>\n",
              "      <td>1.191857</td>\n",
              "      <td>0.266151</td>\n",
              "      <td>0.166480</td>\n",
              "      <td>0.448154</td>\n",
              "      <td>0.060018</td>\n",
              "      <td>-0.082361</td>\n",
              "      <td>-0.078803</td>\n",
              "      <td>0.085102</td>\n",
              "      <td>-0.255425</td>\n",
              "      <td>-0.166974</td>\n",
              "      <td>...</td>\n",
              "      <td>-0.638672</td>\n",
              "      <td>0.101288</td>\n",
              "      <td>-0.339846</td>\n",
              "      <td>0.167170</td>\n",
              "      <td>0.125895</td>\n",
              "      <td>-0.008983</td>\n",
              "      <td>0.014724</td>\n",
              "      <td>0</td>\n",
              "      <td>-0.342584</td>\n",
              "      <td>-1.996823</td>\n",
              "    </tr>\n",
              "    <tr>\n",
              "      <th>2</th>\n",
              "      <td>-1.358354</td>\n",
              "      <td>-1.340163</td>\n",
              "      <td>1.773209</td>\n",
              "      <td>0.379780</td>\n",
              "      <td>-0.503198</td>\n",
              "      <td>1.800499</td>\n",
              "      <td>0.791461</td>\n",
              "      <td>0.247676</td>\n",
              "      <td>-1.514654</td>\n",
              "      <td>0.207643</td>\n",
              "      <td>...</td>\n",
              "      <td>0.771679</td>\n",
              "      <td>0.909412</td>\n",
              "      <td>-0.689281</td>\n",
              "      <td>-0.327642</td>\n",
              "      <td>-0.139097</td>\n",
              "      <td>-0.055353</td>\n",
              "      <td>-0.059752</td>\n",
              "      <td>0</td>\n",
              "      <td>1.158900</td>\n",
              "      <td>-1.996802</td>\n",
              "    </tr>\n",
              "    <tr>\n",
              "      <th>3</th>\n",
              "      <td>-0.966272</td>\n",
              "      <td>-0.185226</td>\n",
              "      <td>1.792993</td>\n",
              "      <td>-0.863291</td>\n",
              "      <td>-0.010309</td>\n",
              "      <td>1.247203</td>\n",
              "      <td>0.237609</td>\n",
              "      <td>0.377436</td>\n",
              "      <td>-1.387024</td>\n",
              "      <td>-0.054952</td>\n",
              "      <td>...</td>\n",
              "      <td>0.005274</td>\n",
              "      <td>-0.190321</td>\n",
              "      <td>-1.175575</td>\n",
              "      <td>0.647376</td>\n",
              "      <td>-0.221929</td>\n",
              "      <td>0.062723</td>\n",
              "      <td>0.061458</td>\n",
              "      <td>0</td>\n",
              "      <td>0.139886</td>\n",
              "      <td>-1.996802</td>\n",
              "    </tr>\n",
              "    <tr>\n",
              "      <th>4</th>\n",
              "      <td>-1.158233</td>\n",
              "      <td>0.877737</td>\n",
              "      <td>1.548718</td>\n",
              "      <td>0.403034</td>\n",
              "      <td>-0.407193</td>\n",
              "      <td>0.095921</td>\n",
              "      <td>0.592941</td>\n",
              "      <td>-0.270533</td>\n",
              "      <td>0.817739</td>\n",
              "      <td>0.753074</td>\n",
              "      <td>...</td>\n",
              "      <td>0.798278</td>\n",
              "      <td>-0.137458</td>\n",
              "      <td>0.141267</td>\n",
              "      <td>-0.206010</td>\n",
              "      <td>0.502292</td>\n",
              "      <td>0.219422</td>\n",
              "      <td>0.215153</td>\n",
              "      <td>0</td>\n",
              "      <td>-0.073813</td>\n",
              "      <td>-1.996781</td>\n",
              "    </tr>\n",
              "  </tbody>\n",
              "</table>\n",
              "<p>5 rows × 31 columns</p>\n",
              "</div>\n",
              "      <button class=\"colab-df-convert\" onclick=\"convertToInteractive('df-67605fae-17ed-4008-827c-250decd85388')\"\n",
              "              title=\"Convert this dataframe to an interactive table.\"\n",
              "              style=\"display:none;\">\n",
              "        \n",
              "  <svg xmlns=\"http://www.w3.org/2000/svg\" height=\"24px\"viewBox=\"0 0 24 24\"\n",
              "       width=\"24px\">\n",
              "    <path d=\"M0 0h24v24H0V0z\" fill=\"none\"/>\n",
              "    <path d=\"M18.56 5.44l.94 2.06.94-2.06 2.06-.94-2.06-.94-.94-2.06-.94 2.06-2.06.94zm-11 1L8.5 8.5l.94-2.06 2.06-.94-2.06-.94L8.5 2.5l-.94 2.06-2.06.94zm10 10l.94 2.06.94-2.06 2.06-.94-2.06-.94-.94-2.06-.94 2.06-2.06.94z\"/><path d=\"M17.41 7.96l-1.37-1.37c-.4-.4-.92-.59-1.43-.59-.52 0-1.04.2-1.43.59L10.3 9.45l-7.72 7.72c-.78.78-.78 2.05 0 2.83L4 21.41c.39.39.9.59 1.41.59.51 0 1.02-.2 1.41-.59l7.78-7.78 2.81-2.81c.8-.78.8-2.07 0-2.86zM5.41 20L4 18.59l7.72-7.72 1.47 1.35L5.41 20z\"/>\n",
              "  </svg>\n",
              "      </button>\n",
              "      \n",
              "  <style>\n",
              "    .colab-df-container {\n",
              "      display:flex;\n",
              "      flex-wrap:wrap;\n",
              "      gap: 12px;\n",
              "    }\n",
              "\n",
              "    .colab-df-convert {\n",
              "      background-color: #E8F0FE;\n",
              "      border: none;\n",
              "      border-radius: 50%;\n",
              "      cursor: pointer;\n",
              "      display: none;\n",
              "      fill: #1967D2;\n",
              "      height: 32px;\n",
              "      padding: 0 0 0 0;\n",
              "      width: 32px;\n",
              "    }\n",
              "\n",
              "    .colab-df-convert:hover {\n",
              "      background-color: #E2EBFA;\n",
              "      box-shadow: 0px 1px 2px rgba(60, 64, 67, 0.3), 0px 1px 3px 1px rgba(60, 64, 67, 0.15);\n",
              "      fill: #174EA6;\n",
              "    }\n",
              "\n",
              "    [theme=dark] .colab-df-convert {\n",
              "      background-color: #3B4455;\n",
              "      fill: #D2E3FC;\n",
              "    }\n",
              "\n",
              "    [theme=dark] .colab-df-convert:hover {\n",
              "      background-color: #434B5C;\n",
              "      box-shadow: 0px 1px 3px 1px rgba(0, 0, 0, 0.15);\n",
              "      filter: drop-shadow(0px 1px 2px rgba(0, 0, 0, 0.3));\n",
              "      fill: #FFFFFF;\n",
              "    }\n",
              "  </style>\n",
              "\n",
              "      <script>\n",
              "        const buttonEl =\n",
              "          document.querySelector('#df-67605fae-17ed-4008-827c-250decd85388 button.colab-df-convert');\n",
              "        buttonEl.style.display =\n",
              "          google.colab.kernel.accessAllowed ? 'block' : 'none';\n",
              "\n",
              "        async function convertToInteractive(key) {\n",
              "          const element = document.querySelector('#df-67605fae-17ed-4008-827c-250decd85388');\n",
              "          const dataTable =\n",
              "            await google.colab.kernel.invokeFunction('convertToInteractive',\n",
              "                                                     [key], {});\n",
              "          if (!dataTable) return;\n",
              "\n",
              "          const docLinkHtml = 'Like what you see? Visit the ' +\n",
              "            '<a target=\"_blank\" href=https://colab.research.google.com/notebooks/data_table.ipynb>data table notebook</a>'\n",
              "            + ' to learn more about interactive tables.';\n",
              "          element.innerHTML = '';\n",
              "          dataTable['output_type'] = 'display_data';\n",
              "          await google.colab.output.renderOutput(dataTable, element);\n",
              "          const docLink = document.createElement('div');\n",
              "          docLink.innerHTML = docLinkHtml;\n",
              "          element.appendChild(docLink);\n",
              "        }\n",
              "      </script>\n",
              "    </div>\n",
              "  </div>\n",
              "  "
            ]
          },
          "metadata": {},
          "execution_count": 13
        }
      ],
      "source": [
        "#padroniza as colunas Time e Amount\n",
        "std_scaler = StandardScaler()\n",
        "df_clean['std_amount'] = std_scaler.fit_transform(df_clean['Amount'].values.reshape(-1, 1))\n",
        "df_clean['std_time'] = std_scaler.fit_transform(df_clean['Time'].values.reshape(-1, 1))\n",
        "df_clean.drop(['Time', 'Amount'], axis=1, inplace=True)\n",
        "\n",
        "#visualiza as cinco primeiras linhas\n",
        "df_clean.head()"
      ]
    },
    {
      "cell_type": "markdown",
      "metadata": {
        "id": "tEAswEQTE_wt"
      },
      "source": [
        "Feito isso, também vou separar o dataset em treino e teste. Vou deixar habilitado o parâmetro **stratify** para que a nossa variável alvo seja distribuída proporcionalmente. "
      ]
    },
    {
      "cell_type": "code",
      "execution_count": 14,
      "metadata": {
        "id": "lDySx8XUSMw_"
      },
      "outputs": [],
      "source": [
        "#separar as variáveis x e y\n",
        "X = df_clean.drop('Class', axis=1)\n",
        "y = df['Class']\n",
        "\n",
        "#dividir os dados em treino e teste\n",
        "X_train, X_test, y_train, y_test = train_test_split(X, y, stratify=y, shuffle=True, random_state=0) "
      ]
    },
    {
      "cell_type": "markdown",
      "metadata": {
        "id": "MisAqFsLFdz0"
      },
      "source": [
        "Em um cenário perfeito, já seria possível seguir com a construção dos modelos de *machine learning*, contudo, ao lidar com dados desbalanceados, devemos tomar cuidado. Do jeito que está, a tendência é que o modelo aprenda muito sobre a **classe majoritária (0)** e, por isso, não encontra a nossa **classe minoritária (1)** tão facilmente. Vale ressaltar que a classe minoritária corresponde a menos de 1% do nosso dataset, como foi analisado anteriormente. \n",
        "\n",
        "Para tentar contornar essa situação, vamos utilizar duas técnicas diferentes, e avaliar as métricas em diferentes cenários. Inicialmente, com a técnica [**RandomUnderSampler()**](https://imbalanced-learn.org/stable/references/generated/imblearn.under_sampling.RandomUnderSampler.html), conseguimos reduzir a classe majoritária de maneira aleatória ao ponto de se igualar a classe majoritária. Observe que a transformação diminuiu drasticamente a classe de transações válidas."
      ]
    },
    {
      "cell_type": "code",
      "execution_count": 15,
      "metadata": {
        "id": "0n8waajJ4mvQ",
        "colab": {
          "base_uri": "https://localhost:8080/"
        },
        "outputId": "fd89cd55-2ab3-4b94-ebca-fa1bf5b41372"
      },
      "outputs": [
        {
          "output_type": "stream",
          "name": "stdout",
          "text": [
            "0    355\n",
            "1    355\n",
            "Name: Class, dtype: int64\n"
          ]
        }
      ],
      "source": [
        "#undersampling \n",
        "rus = RandomUnderSampler()\n",
        "X_rus, y_rus = rus.fit_resample(X_train, y_train)\n",
        "\n",
        "#balanceamento das classes\n",
        "print(pd.Series(y_rus).value_counts())"
      ]
    },
    {
      "cell_type": "markdown",
      "metadata": {
        "id": "pxzW7ssyGZx_"
      },
      "source": [
        "Também vamos também utilizar a técnica [**RandomOverSampler()**](https://imbalanced-learn.org/stable/references/generated/imblearn.over_sampling.RandomOverSampler.html), onde as classes minoritárias serão replicadas aleatoriamente, deixando assim o dataset equilibrado. Como já vimos, as transações fraudulentas não são tão representativas como gostaríamos (e ainda bem!), então vamos replicar apenas 10% dos nossos dados."
      ]
    },
    {
      "cell_type": "code",
      "execution_count": 16,
      "metadata": {
        "id": "_n8hlMl69amA",
        "colab": {
          "base_uri": "https://localhost:8080/"
        },
        "outputId": "6185935a-49d4-4620-9e34-511d50bdbc8e"
      },
      "outputs": [
        {
          "output_type": "stream",
          "name": "stdout",
          "text": [
            "0    212439\n",
            "1     21243\n",
            "Name: Class, dtype: int64\n"
          ]
        }
      ],
      "source": [
        "#oversampling\n",
        "ros = RandomOverSampler(sampling_strategy=0.1)\n",
        "X_ros, y_ros = ros.fit_resample(X_train, y_train)\n",
        "\n",
        "#balanceamento de classes\n",
        "print(pd.Series(y_ros).value_counts())"
      ]
    },
    {
      "cell_type": "markdown",
      "metadata": {
        "id": "7XgO-PzRHEM0"
      },
      "source": [
        "É nítido que a distribuição entre as classes parece melhor em ambos os casos, contudo, como diz o ditado popular: *'não existe almoço de graça'*. \n",
        "\n",
        "Quando utilizamos a técnica de **subamostragem** (ou *undersampling*), pode acontecer de apagar informações importantes da classe majoritária para o treinamento do nosso modelo, uma vez que não temos o controle se as informações excluídas serão boas ou ruins. Em contrapartida, durante a **superamostragem** (ou *oversampling)*, ao replicarmos os valores das classes minoritárias, podemos ocasionar **superajuste** (ou *overfitting*) nos dados de treino, impactando na avaliação de desempenho com os dados de teste. \n",
        "\n",
        "Tendo em vista os prós e contras de cada técnica, vamos visualizar como era correlação entre as variáveis e como que está agora com as transformações aplicadas.\n"
      ]
    },
    {
      "cell_type": "code",
      "execution_count": 17,
      "metadata": {
        "cellView": "form",
        "colab": {
          "base_uri": "https://localhost:8080/",
          "height": 524
        },
        "id": "Ys-wJlq0Aw-q",
        "outputId": "4fdea22d-f340-47a7-b588-6ec4e0ba1698"
      },
      "outputs": [
        {
          "output_type": "display_data",
          "data": {
            "text/plain": [
              "<Figure size 1584x576 with 6 Axes>"
            ],
            "image/png": "[encoded data removed]"
          },
          "metadata": {
            "needs_background": "light"
          }
        }
      ],
      "source": [
        "#@title\n",
        "#matriz de correlação\n",
        "corr = X_train.corr()\n",
        "corr_rus = pd.DataFrame(X_rus).corr()\n",
        "corr_ros = pd.DataFrame(X_ros).corr()\n",
        "\n",
        "fig, ax = plt.subplots(nrows=1, ncols=3, figsize = (22,8))\n",
        "\n",
        "sns.heatmap(corr, xticklabels=corr.columns, linewidths=.01, cmap='coolwarm', ax=ax[0])\n",
        "ax[0].set_title('Dataset padronizado', fontsize=14)\n",
        "\n",
        "sns.heatmap(corr_rus, xticklabels=corr.columns, linewidths=.01, cmap='coolwarm', ax=ax[1])\n",
        "ax[1].set_title('Dataset subamostrado', fontsize=14)\n",
        "\n",
        "sns.heatmap(corr_ros, xticklabels=corr.columns, linewidth=.01, cmap='coolwarm', ax=ax[2])\n",
        "ax[2].set_title('Dataset superamostrado', fontsize=14)\n",
        "\n",
        "plt.show()"
      ]
    },
    {
      "cell_type": "markdown",
      "metadata": {
        "id": "qjMeI7PgIOMG"
      },
      "source": [
        "E nítido como a transformação melhorou a correlação entre as variáveis. Já conseguimos ver que a correlação do undersampling parece fazer mais sentido, uma vez que o equilíbrio entre as classes é maior, além de serem informações mais próximas da realidade."
      ]
    },
    {
      "cell_type": "markdown",
      "metadata": {
        "id": "wJNH5qcjRxfX"
      },
      "source": [
        "## **Machine Learning e desempenho**"
      ]
    },
    {
      "cell_type": "markdown",
      "metadata": {
        "id": "tzrAZMMM8g-1"
      },
      "source": [
        "Com os dados já tratados, posso começar a fazer alguns experimentos com alguns modelos de machine learning. Sim, no plural, uma vez que, com a comparação do resultado de mais de um algoritmo, consigo validar qual modelo conseguiu generalizar melhor conjuntos de dados. Sendo assim, os modelos escolhidos para a análise são a Regressão Logística, Naive Bayes e Random Forest. De maneira simples, vamos falar um pouco a respeito de cada um deles.\n",
        "\n",
        "A Regressão Logística é um modelo de classificação supervisionada que é utilizada em situações que nosso alvo são classes binária (0 e 1). Nesse sentido, o algoritmo é capaz de determinar a probabilidade de ocorrência de uma classe associada ao conjunto de variáveis utilizadas a partir de pesos ou valores dos coeficientes. \n",
        "\n",
        "O algoritmo Random Forest também é modelo supervisionado, contudo, tem a capacidade de resolver problemas tanto de classificação como de regressão a partir da criação de diversas árvores de decisão. A partir de amostras, o modelo cria n árvores diferentes e independentes entre si, onde cada uma delas terá o seu output. No caso da regressão, o resultado final é a média dos valores de cada árvore. Por ser um modelo de maior complexidade, o Random Forest será o único algorítmo em que vamos indicar alguns parâmetros.\n",
        "\n",
        "Também vamos utilizar o algoritmo Naive Bayes por ser de aplicação simples e performance rápida. O algoritmo também é um modelo supervisionado e que utiliza o Teorema de Bayes para realizar as predições, onde se assume que as variáveis são independentes e não têm correlação entre elas. \n",
        "\n",
        "Para o último modelo, também quero verificar se um algoritmo mais simples consegue ter um melhor desempenho quando comparado a outros mais complexos. Feito isso, vamos instanciar nossos modelos e iniciar as análises.\n"
      ]
    },
    {
      "cell_type": "code",
      "execution_count": 18,
      "metadata": {
        "id": "t9Nxx2_z4dCS"
      },
      "outputs": [],
      "source": [
        "#cria uma semente aleatória\n",
        "np.random.seed(1)\n",
        "\n",
        "#regressão logística\n",
        "lr = LogisticRegression()\n",
        "\n",
        "#naive bayes\n",
        "nb = GaussianNB()\n",
        "\n",
        "#random forest\n",
        "rf = RandomForestClassifier(max_depth=7,\n",
        "                             n_estimators=100, \n",
        "                             oob_score=True)"
      ]
    },
    {
      "cell_type": "markdown",
      "metadata": {
        "id": "hAku0Z6p4gwk"
      },
      "source": [
        "### **Undersampling dataset**\n",
        "\n",
        "Com os modelos prontos, vou iniciar o treinamento com do dataset reduzido por undersampling e separar as devidas probabilidades para avaliação."
      ]
    },
    {
      "cell_type": "code",
      "execution_count": 19,
      "metadata": {
        "id": "oihjSew5MSLB"
      },
      "outputs": [],
      "source": [
        "#ajusta o modelo com os dados de treino \n",
        "lr.fit(X_rus, y_rus)\n",
        "nb.fit(X_rus, y_rus)\n",
        "rf.fit(X_rus, y_rus)\n",
        "\n",
        "#faz as previsões em cima dos dados de treino\n",
        "lr_proba = lr.predict_proba(X_test)\n",
        "nb_proba = nb.predict_proba(X_test)\n",
        "rf_proba = rf.predict_proba(X_test)\n",
        "\n",
        "#mantém apenas a classe 0\n",
        "lr_proba = lr_proba[:,1]\n",
        "nb_proba = nb_proba[:,1]\n",
        "rf_proba = rf_proba[:,1]"
      ]
    },
    {
      "cell_type": "markdown",
      "metadata": {
        "id": "obQKFut-9_s6"
      },
      "source": [
        "Com os modelos devidamente treinado, vamos falar sobre a métrica utilizada. A curva ***ROC*** (em inglês, *Receiver Operating Characteristics*) costuma ser usada para avaliar o desempenho de modelos utilizados para classificar alvos do tipo binário, assim como o nosso dataset. Ao analisar o gráfico, observamos a relação do eixo Y, que representa a taxa de verdadeiro positivo (ou sensibilidade), possui com o eixo X, que representa a taxa de falso positivo (ou especificidade).  Para simplificar a interpretação, vamos incluir a ***AUC*** (em inglês, Area Under Curve), que avalia o desempenho do teste a partir da área encontrada sob a curva."
      ]
    },
    {
      "cell_type": "code",
      "execution_count": 20,
      "metadata": {
        "colab": {
          "base_uri": "https://localhost:8080/",
          "height": 409
        },
        "id": "6_V7609x4dCT",
        "outputId": "f5dbb8e5-6f1e-4df1-a0ef-2033ed29af5c",
        "cellView": "form"
      },
      "outputs": [
        {
          "output_type": "display_data",
          "data": {
            "text/plain": [
              "<Figure size 720x432 with 1 Axes>"
            ],
            "image/png": "[encoded data removed]"
          },
          "metadata": {
            "needs_background": "light"
          }
        }
      ],
      "source": [
        "#@title\n",
        "#calcula a auc\n",
        "lr_auc = roc_auc_score(y_test, lr_proba)\n",
        "nb_auc = roc_auc_score(y_test, nb_proba)\n",
        "rf_auc = roc_auc_score(y_test, rf_proba)\n",
        "\n",
        "#calcula roc\n",
        "lr_fpr, lr_tpr, _ = roc_curve(y_test, lr_proba)\n",
        "nb_fpr, nb_tpr, _ = roc_curve(y_test, nb_proba)\n",
        "rf_fpr, rf_tpr, _ = roc_curve(y_test, rf_proba)\n",
        "\n",
        "fig, ax = plt.subplots(figsize=(10,6))\n",
        "\n",
        "ax.plot(lr_fpr, lr_tpr, label=f'Regressão Logística (AUC: {round(lr_auc, 3)})')\n",
        "ax.plot(nb_fpr, nb_tpr, label=f'Naive Bayes (AUC: {round(nb_auc, 3)})')\n",
        "ax.plot(rf_fpr, rf_tpr, label=f'Random Forest (AUC: {round(rf_auc, 3)})') \n",
        "\n",
        "ax.set_title('Curva ROC - Subamostragem', fontsize=16)\n",
        "ax.set_xlabel('Falso positivo', fontsize=12)\n",
        "ax.set_ylabel('Verdadeiro positivo', fontsize=12)\n",
        "ax.legend()\n",
        "\n",
        "ax.spines[\"top\"].set_visible(False)\n",
        "ax.spines[\"right\"].set_visible(False)\n",
        "ax.spines[\"left\"].set_visible(False)\n",
        "ax.spines[\"bottom\"].set_visible(False)\n",
        "\n",
        "plt.show()"
      ]
    },
    {
      "cell_type": "markdown",
      "source": [
        "A métrica *AUC* mostra que a performance do Random Forest foi ligeiramente melhor que dos outros modelos. Para ilustrar o desempenho dos modelos, vamos plotar a matriz de confusão e visualizar quais foram os valores reais e preditos. Se o resultado parecer um tanto confuso, é só seguir a ilustração apresentada logo abaixo.\n",
        "\n",
        "![image.png](data:image/png;base64,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)\n",
        "\n",
        "Vamos avaliar a matriz e ver o quão bem os nossos modelos conseguiram identificar ações fraudulentas que, nesse caso, são os **Verdadeiros Positivos**."
      ],
      "metadata": {
        "id": "_pS3avYv_xx4"
      }
    },
    {
      "cell_type": "code",
      "execution_count": 21,
      "metadata": {
        "cellView": "form",
        "colab": {
          "base_uri": "https://localhost:8080/"
        },
        "id": "CzKNoeDAqX99",
        "outputId": "a7917e95-1756-445d-d376-a9ad7d2153d0"
      },
      "outputs": [
        {
          "output_type": "stream",
          "name": "stdout",
          "text": [
            "Matriz de confusão para o dataset subamostrado\n",
            "\n",
            "Regressão Logística \n",
            "[[68641  2173]\n",
            " [   11   107]]\n",
            "\n",
            "Naive Bayes \n",
            "[[68641  2173]\n",
            " [   11   107]]\n",
            "\n",
            "Random Forest \n",
            "[[69614  1200]\n",
            " [   12   106]]\n",
            "\n"
          ]
        }
      ],
      "source": [
        "#@title\n",
        "#fazer as previsões em cima dos dados de treino.\n",
        "y_pred_lr = lr.predict(X_test)\n",
        "y_pred_nb = nb.predict(X_test)\n",
        "y_pred_rf = rf.predict(X_test)\n",
        "\n",
        "#cria as matrizes de confusão\n",
        "cm_lr = confusion_matrix(y_test, y_pred_lr)\n",
        "cm_nb = confusion_matrix(y_test, y_pred_lr)\n",
        "cm_rf = confusion_matrix(y_test, y_pred_rf)\n",
        "\n",
        "print('Matriz de confusão para o dataset subamostrado\\n')\n",
        "print(f'Regressão Logística \\n{cm_lr}\\n')\n",
        "print(f'Naive Bayes \\n{cm_nb}\\n')\n",
        "print(f'Random Forest \\n{cm_rf}\\n')"
      ]
    },
    {
      "cell_type": "markdown",
      "source": [
        "Os resultados mostrados pela matriz de confusão deixam claro que os modelos Regressão Logística e Naive Bayes apresentaram desempenho parecidos. Já o modelo Random Forest teve um melhor desempenho ao detectar a classe 0 (ou verdadeiro negativo), enquanto teve uma ligeira piora na classe 1 (verdadeiro positivo).\n",
        "Vale ressaltar que devemos sempre testar nossos modelos com novos parâmetros de entrada antes de falar sobre o melhor ou pior. Para não prolongar esse artigo, vamos considerar o resultado como está, e faremos exatamente os mesmos procedimentos com os dados superamostrados.\n"
      ],
      "metadata": {
        "id": "Ro82BudvC3TG"
      }
    },
    {
      "cell_type": "markdown",
      "metadata": {
        "id": "nnXB2IztoOpi"
      },
      "source": [
        "### **Oversampling dataset**\n",
        "\n",
        "Vou treinar o modelo novamente, mas com os dados superamostrados, e avaliar com as mesmas métricas avaliadas anteriormente. "
      ]
    },
    {
      "cell_type": "code",
      "execution_count": 22,
      "metadata": {
        "id": "i3vwr9epMWnc"
      },
      "outputs": [],
      "source": [
        "#ajusta o modelo com os dados de treino \n",
        "lr.fit(X_ros, y_ros)\n",
        "nb.fit(X_ros, y_ros)\n",
        "rf.fit(X_ros, y_ros)\n",
        "\n",
        "#faz as previsões em cima dos dados de treino\n",
        "lr_proba = lr.predict_proba(X_test)\n",
        "nb_proba = nb.predict_proba(X_test)\n",
        "rf_proba = rf.predict_proba(X_test)\n",
        "\n",
        "#mantém apenas a classe 0\n",
        "lr_proba = lr_proba[:,1]\n",
        "nb_proba = nb_proba[:,1]\n",
        "rf_proba = rf_proba[:,1]"
      ]
    },
    {
      "cell_type": "markdown",
      "source": [
        "Com tudo pronto, vamos ver se o resultado apresentou alguma diferença considerável."
      ],
      "metadata": {
        "id": "rZ5uPBh3D7l3"
      }
    },
    {
      "cell_type": "code",
      "execution_count": 23,
      "metadata": {
        "cellView": "form",
        "colab": {
          "base_uri": "https://localhost:8080/",
          "height": 409
        },
        "id": "bBHByVidoXhc",
        "outputId": "a3e61500-aa8c-475d-b3ee-6d25ce5dc128"
      },
      "outputs": [
        {
          "output_type": "display_data",
          "data": {
            "text/plain": [
              "<Figure size 720x432 with 1 Axes>"
            ],
            "image/png": "[encoded data removed]"
          },
          "metadata": {
            "needs_background": "light"
          }
        }
      ],
      "source": [
        "#@title\n",
        "#calcula a auc\n",
        "lr_auc = roc_auc_score(y_test, lr_proba)\n",
        "nb_auc = roc_auc_score(y_test, nb_proba)\n",
        "rf_auc = roc_auc_score(y_test, rf_proba)\n",
        "\n",
        "#calcula roc\n",
        "lr_fpr, lr_tpr, _ = roc_curve(y_test, lr_proba)\n",
        "nb_fpr, nb_tpr, _ = roc_curve(y_test, nb_proba)\n",
        "rf_fpr, rf_tpr, _ = roc_curve(y_test, rf_proba)\n",
        "\n",
        "fig, ax = plt.subplots(figsize=(10,6))\n",
        "\n",
        "ax.plot(lr_fpr, lr_tpr, label=f'Regressão Logística (AUC: {round(lr_auc, 3)})')\n",
        "ax.plot(nb_fpr, nb_tpr, label=f'Naive Bayes (AUC: {round(nb_auc, 3)})')\n",
        "ax.plot(rf_fpr, rf_tpr, label=f'Random Forest (AUC: {round(rf_auc, 3)})') \n",
        "\n",
        "ax.set_title('Curva ROC - Superamostragem', fontsize=16)\n",
        "ax.set_xlabel('Falso ositivo', fontsize=12)\n",
        "ax.set_ylabel('Verdadeiro positivo', fontsize=12)\n",
        "ax.legend() # \n",
        "\n",
        "ax.spines[\"top\"].set_visible(False)\n",
        "ax.spines[\"right\"].set_visible(False)\n",
        "ax.spines[\"left\"].set_visible(False)\n",
        "ax.spines[\"bottom\"].set_visible(False)\n",
        "\n",
        "plt.show()"
      ]
    },
    {
      "cell_type": "markdown",
      "source": [
        "Observe que a Regressão Logística obteve uma ligeira melhora com o dataset superamostrados, enquanto os algoritmos Naive Bayes e Random Forest caíram algumas casas decimais no desempenho. Será que podemos considerar isso ruim? Vamos avaliar o que a matriz de confusão."
      ],
      "metadata": {
        "id": "OCVn7Ye8EG-E"
      }
    },
    {
      "cell_type": "code",
      "execution_count": 24,
      "metadata": {
        "colab": {
          "base_uri": "https://localhost:8080/"
        },
        "id": "RmTIJL4Yyqbd",
        "outputId": "be0f40f9-cc1b-45df-e409-211f0b819800"
      },
      "outputs": [
        {
          "output_type": "stream",
          "name": "stdout",
          "text": [
            "Results for Oversampling dataset\n",
            "\n",
            "Confusion Matrix for Logistic Regression \n",
            "[[70645   169]\n",
            " [   17   101]]\n",
            "\n",
            "Confusion Matrix for Naive Bayes \n",
            "[[69007  1807]\n",
            " [   19    99]]\n",
            "\n",
            "Confusion Matrix for Random Forest \n",
            "[[70799    15]\n",
            " [   21    97]]\n",
            "\n"
          ]
        }
      ],
      "source": [
        "#fazer as previsões em cima dos dados de treino.\n",
        "y_pred_lr = lr.predict(X_test)\n",
        "y_pred_nb = nb.predict(X_test)\n",
        "y_pred_rf = rf.predict(X_test)\n",
        "\n",
        "#criando as matrizes de confusão\n",
        "cm_lr = confusion_matrix(y_test, y_pred_lr)\n",
        "cm_nb = confusion_matrix(y_test, y_pred_nb)\n",
        "cm_rf = confusion_matrix(y_test, y_pred_rf)\n",
        "\n",
        "print('Results for Oversampling dataset\\n')\n",
        "print(f'Confusion Matrix for Logistic Regression \\n{cm_lr}\\n')\n",
        "print(f'Confusion Matrix for Naive Bayes \\n{cm_nb}\\n')\n",
        "print(f'Confusion Matrix for Random Forest \\n{cm_rf}\\n')"
      ]
    },
    {
      "cell_type": "markdown",
      "source": [
        "O algoritmo Random Forest novamente superou os demais modelos para a detecção da classe 0, mas não é essa a classe que buscamos para análise de fraude. O algoritmo Regressão Logística obteve o melhor desempenho entre os modelos utilizados para a detecção da classe 1 para dados superamostrados. \n",
        "\n",
        "Conforme mencionado anteriormente, aqui também é necessário testar novos modelos e parâmetros antes de afirmar qual é o melhor caminho. Mesmo com o bom desempenho da Regressão Logística, devemos avaliar todas as possibilidades para, então, bater o martelo. Diante de todas as transações realizadas diariamente, ainda é uma minoria considerável os casos de fraude bancária, mas ainda existem, e podem causar prejuízo financeiro e de imagem para a instituição bancária."
      ],
      "metadata": {
        "id": "_LSgn861ET78"
      }
    },
    {
      "cell_type": "markdown",
      "metadata": {
        "id": "AcDINgz3MHOZ"
      },
      "source": [
        "## **Conclusão**\n",
        "\n",
        "Até aqui, falamos sobre os desafios e impedimentos existentes quando estamos trabalhando com dados desbalanceados, e, em especial, com fraude de cartão de crédito. \n",
        "\n",
        "Logo no início foi removido todos valores duplicados do dataset e também verificado se existia valores nulos. A partir da estatística descritiva e análise exploratória, ficamos atentos a possíveis problemas durante a avaliação, inclusive a quantidade disponível para cada classe (0 e 1). Para padronizar as informações em apenas uma unidade de escala, os dados foram transformados pela função *StandardScaler()* e separados em dois cenários diferentes (de superamostragem e subamostragem). Também foi possível observar no mapa de calor que a correlação entre as variáveis aumentou consideravelmente. \n",
        "\n",
        "A partir da avaliação dos modelos de machine learning (Regressão Logística, Random Forest e Naive Bayes), conseguimos averiguar que os três obtiveram um desempenho marginal para a métrica *AUC*. Apesar do modelo Random Forest ter a performance melhor que os demais, o mesmo não obteve os melhores resultados na detecção da detecção da classe 1, conforme visto na matriz de confusão. Vale ressaltar que todos os três foram gerados com sua configuração padrão, o que necessitaria de novos testes uma avaliação mais assertiva.\n",
        "\n",
        "E se você chegou até neste e quer sugerir algo ou dar algum feedback, fique a vontade para entrar em contato por aqui mesmo ou via [LinkedIn](https://www.linkedin.com/in/thiago-aguas/). Ficarei feliz em discutir novos pontos de vista.\n",
        "\n",
        "Até mais!\n"
      ]
    }
  ],
  "metadata": {
    "colab": {
      "collapsed_sections": [],
      "provenance": [],
      "include_colab_link": true
    },
    "kernelspec": {
      "display_name": "Python 3",
      "name": "python3"
    }
  },
  "nbformat": 4,
  "nbformat_minor": 0
}